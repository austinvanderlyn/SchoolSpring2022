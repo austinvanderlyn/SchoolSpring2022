{
 "cells": [
  {
   "cell_type": "markdown",
   "id": "ee94ac62-b802-42ec-85e2-69166c0bac51",
   "metadata": {},
   "source": [
    "# Chapter 2"
   ]
  },
  {
   "cell_type": "code",
   "execution_count": 1,
   "id": "bc37d569-46d8-401a-ae9f-186bdbb564c1",
   "metadata": {},
   "outputs": [
    {
     "name": "stdout",
     "output_type": "stream",
     "text": [
      "4\n"
     ]
    }
   ],
   "source": [
    "print(4)"
   ]
  },
  {
   "cell_type": "code",
   "execution_count": 2,
   "id": "c38fbb9d-76b3-4d47-a869-56c3d39eec4f",
   "metadata": {},
   "outputs": [
    {
     "data": {
      "text/plain": [
       "str"
      ]
     },
     "execution_count": 2,
     "metadata": {},
     "output_type": "execute_result"
    }
   ],
   "source": [
    "type('Hello, World!')"
   ]
  },
  {
   "cell_type": "code",
   "execution_count": 3,
   "id": "a3257fb6-dc8e-4384-bd6a-973c40c4972a",
   "metadata": {},
   "outputs": [
    {
     "data": {
      "text/plain": [
       "int"
      ]
     },
     "execution_count": 3,
     "metadata": {},
     "output_type": "execute_result"
    }
   ],
   "source": [
    "type(17)"
   ]
  },
  {
   "cell_type": "code",
   "execution_count": 4,
   "id": "d56133e0-43b9-402c-9015-f4be70696553",
   "metadata": {},
   "outputs": [
    {
     "data": {
      "text/plain": [
       "float"
      ]
     },
     "execution_count": 4,
     "metadata": {},
     "output_type": "execute_result"
    }
   ],
   "source": [
    "type(3.2)"
   ]
  },
  {
   "cell_type": "code",
   "execution_count": 5,
   "id": "800c1b87-be20-4597-b123-bc75f5fe4154",
   "metadata": {},
   "outputs": [
    {
     "data": {
      "text/plain": [
       "str"
      ]
     },
     "execution_count": 5,
     "metadata": {},
     "output_type": "execute_result"
    }
   ],
   "source": [
    "type('3.2')"
   ]
  },
  {
   "cell_type": "code",
   "execution_count": 6,
   "id": "fba5cf06-7ad7-423f-8a96-721e72dcdf18",
   "metadata": {},
   "outputs": [
    {
     "name": "stdout",
     "output_type": "stream",
     "text": [
      "1 0 0\n"
     ]
    }
   ],
   "source": [
    "print(1,000,000)"
   ]
  },
  {
   "cell_type": "code",
   "execution_count": 7,
   "id": "1b103400-bbe8-4623-93ad-0321d6856f03",
   "metadata": {},
   "outputs": [],
   "source": [
    "message = 'And now for something completely different'\n",
    "n = 17\n",
    "pi = 3.1416"
   ]
  },
  {
   "cell_type": "code",
   "execution_count": 8,
   "id": "e899c587-786c-4203-b3aa-5f9bd4774d4f",
   "metadata": {},
   "outputs": [
    {
     "name": "stdout",
     "output_type": "stream",
     "text": [
      "17\n",
      "3.1416\n"
     ]
    }
   ],
   "source": [
    "print(n)\n",
    "print(pi)"
   ]
  },
  {
   "cell_type": "code",
   "execution_count": 12,
   "id": "5ed2557a-2420-4929-8e29-30fa08314559",
   "metadata": {},
   "outputs": [
    {
     "data": {
      "text/plain": [
       "str"
      ]
     },
     "execution_count": 12,
     "metadata": {},
     "output_type": "execute_result"
    }
   ],
   "source": [
    "type(message)"
   ]
  },
  {
   "cell_type": "code",
   "execution_count": 13,
   "id": "a4ffa58b-ba1c-4a70-9e94-68e65b0bda26",
   "metadata": {},
   "outputs": [
    {
     "data": {
      "text/plain": [
       "int"
      ]
     },
     "execution_count": 13,
     "metadata": {},
     "output_type": "execute_result"
    }
   ],
   "source": [
    "type(n)"
   ]
  },
  {
   "cell_type": "code",
   "execution_count": 14,
   "id": "14f7a163-3c6c-47df-a79a-f922dd4ab1fa",
   "metadata": {},
   "outputs": [
    {
     "data": {
      "text/plain": [
       "float"
      ]
     },
     "execution_count": 14,
     "metadata": {},
     "output_type": "execute_result"
    }
   ],
   "source": [
    "type(pi)"
   ]
  },
  {
   "cell_type": "code",
   "execution_count": 15,
   "id": "b2ecf7d1-c352-4512-8a20-c2b18ae6c269",
   "metadata": {},
   "outputs": [
    {
     "data": {
      "text/plain": [
       "2"
      ]
     },
     "execution_count": 15,
     "metadata": {},
     "output_type": "execute_result"
    }
   ],
   "source": [
    "7//3"
   ]
  },
  {
   "cell_type": "code",
   "execution_count": 16,
   "id": "8e5c7535-c310-4542-9159-633f1eba860f",
   "metadata": {},
   "outputs": [
    {
     "data": {
      "text/plain": [
       "1"
      ]
     },
     "execution_count": 16,
     "metadata": {},
     "output_type": "execute_result"
    }
   ],
   "source": [
    "7%3"
   ]
  },
  {
   "cell_type": "code",
   "execution_count": 17,
   "id": "91a455c8-441e-4ba2-a9f9-6e4b80b03d68",
   "metadata": {},
   "outputs": [
    {
     "name": "stdout",
     "output_type": "stream",
     "text": [
      "25\n"
     ]
    }
   ],
   "source": [
    "first = 10\n",
    "second = 15\n",
    "print(first + second)"
   ]
  },
  {
   "cell_type": "code",
   "execution_count": 18,
   "id": "6b397190-1f26-4c27-88ea-b7a2037eaf84",
   "metadata": {},
   "outputs": [
    {
     "name": "stdout",
     "output_type": "stream",
     "text": [
      "100150\n"
     ]
    }
   ],
   "source": [
    "first = '100'\n",
    "second = '150'\n",
    "print(first + second)"
   ]
  },
  {
   "cell_type": "markdown",
   "id": "8d117d8a-0763-4ebc-8066-2e2aea3183d1",
   "metadata": {},
   "source": [
    "# Glossary"
   ]
  },
  {
   "cell_type": "markdown",
   "id": "b002edf2-473c-4ef3-88c5-26bd48cea315",
   "metadata": {},
   "source": [
    "**Assignment**: a statement that assignns a value to a variable\n",
    "\n",
    "**Concatenate**: to join two operands together end to end\n",
    "\n",
    "**Comment**: information in a program that is meant for other programmers and has no effect on the execution of the program\n",
    "\n",
    "**Evaluate**: to simplify an expression by performing the operations in order to yield a single value\n",
    "\n",
    "**Expression**: a combination of variables, operators, and values that represents a single result value\n",
    "\n",
    "**Floating Point**: a type that represents numbers with fractional parts\n",
    "\n",
    "**Integer**: a type that represents whole numbers\n",
    "\n",
    "**Keyword**: a reserved word that is used by the compiler to parse a program\n",
    "\n",
    "**Mnemonic**: a memory aid, we often give variables mnemonic names to help us remember the name of the variable\n",
    "\n",
    "**Modulus Operator**: an operator, denoted with a percent sign, that works on integers and yields the remainder when one number is divided by another\n",
    "\n",
    "**Operand**: one of the values on which an operator operates\n",
    "\n",
    "**Operator**: a special symbol that represents a simple computation like addition, subtraction, etc.\n",
    "\n",
    "**Rules of Precendence**: the set of rules governing the order in which expressions involving multiple operators and operands are evaluated\n",
    "\n",
    "**Statement**: a section of code that represents a command or action. So far, the statements we have seen are assignments and print expression statement\n",
    "\n",
    "**String**: a type that represents strings of characters\n",
    "\n",
    "**Type**: a category of values. The types we have seen so far are integers (ints), floating point numbers (floats), and strings\n",
    "\n",
    "**Value**: one of the basic units of data, like a number or string, that a program manipulates\n",
    "\n",
    "**Variable**: a name that refers to a value"
   ]
  },
  {
   "cell_type": "markdown",
   "id": "f43c9b49-7b6c-4904-9cb7-e653ad47b637",
   "metadata": {},
   "source": [
    "# Exercises"
   ]
  },
  {
   "cell_type": "markdown",
   "id": "e29b70ed-14c9-49cd-96be-244e418f1d42",
   "metadata": {},
   "source": [
    "Exercise 2: Write a program that prompts users for their name and then welcomes them "
   ]
  },
  {
   "cell_type": "code",
   "execution_count": 27,
   "id": "e55b687a-8e7b-4680-9df6-87d56c3c0b1f",
   "metadata": {},
   "outputs": [
    {
     "name": "stdin",
     "output_type": "stream",
     "text": [
      "What is your name?\n",
      " Austin\n"
     ]
    },
    {
     "name": "stdout",
     "output_type": "stream",
     "text": [
      "Welcome Austin!\n"
     ]
    }
   ],
   "source": [
    "name = input('What is your name?\\n')\n",
    "print('Welcome ' + name + '!')"
   ]
  },
  {
   "cell_type": "markdown",
   "id": "3f278586-d1ed-4dbb-92a2-cff55effe916",
   "metadata": {},
   "source": [
    "Exercise 3: Write a program that prompts users for their hours and rate to calculate pay"
   ]
  },
  {
   "cell_type": "code",
   "execution_count": 38,
   "id": "dada4ddb-22f7-464e-8145-1076144ed451",
   "metadata": {},
   "outputs": [
    {
     "name": "stdin",
     "output_type": "stream",
     "text": [
      "Enter Hours:  10\n",
      "Enter Rate:  5\n"
     ]
    },
    {
     "name": "stdout",
     "output_type": "stream",
     "text": [
      "Pay: \n",
      "50.0\n"
     ]
    }
   ],
   "source": [
    "hours = input('Enter Hours: ')\n",
    "rate = input('Enter Rate: ')\n",
    "pay = float(hours) * float(rate)\n",
    "print ('Pay: '),\n",
    "print (pay)"
   ]
  },
  {
   "cell_type": "code",
   "execution_count": 32,
   "id": "1c8d3eb9-d8ce-48d4-bfef-c8d96e620708",
   "metadata": {},
   "outputs": [
    {
     "data": {
      "text/plain": [
       "str"
      ]
     },
     "execution_count": 32,
     "metadata": {},
     "output_type": "execute_result"
    }
   ],
   "source": [
    "type(hours)"
   ]
  },
  {
   "cell_type": "markdown",
   "id": "b6c88ae6-e5f7-4521-bbdc-9c0f5dfd55f6",
   "metadata": {},
   "source": [
    "Exercise 4: Assume that we execute the following assignment statements;\n",
    "\n",
    "width = 17\n",
    "height = 12.0\n",
    "\n",
    "For each of the following expressions, write the value of the expression and the type"
   ]
  },
  {
   "cell_type": "markdown",
   "id": "14353793-8753-41ac-a1e5-66b696931e34",
   "metadata": {},
   "source": [
    "1. width / 2 = 8 (int)\n",
    "2. width / 2.0 = 8.5 (float)\n",
    "3. height / 3 = 4.0 (float)\n",
    "4. 1 + 2 * 5 = 11 (int)"
   ]
  },
  {
   "cell_type": "markdown",
   "id": "7def3f73-90b0-4cae-adb7-8c7128103797",
   "metadata": {},
   "source": [
    "Exercise 5: Write a program that prompts a user for a temp in C, converts it to F"
   ]
  },
  {
   "cell_type": "code",
   "execution_count": 42,
   "id": "e1040e02-a4c4-402e-b4ff-3491d69baa38",
   "metadata": {},
   "outputs": [
    {
     "name": "stdin",
     "output_type": "stream",
     "text": [
      "Temp in degrees C:  0\n"
     ]
    },
    {
     "name": "stdout",
     "output_type": "stream",
     "text": [
      "32.0\n"
     ]
    }
   ],
   "source": [
    "cel = input('Temp in degrees C: ')\n",
    "far = (float(cel) * (9/5)) + 32\n",
    "print(far)"
   ]
  }
 ],
 "metadata": {
  "kernelspec": {
   "display_name": "Python 3 (ipykernel)",
   "language": "python",
   "name": "python3"
  },
  "language_info": {
   "codemirror_mode": {
    "name": "ipython",
    "version": 3
   },
   "file_extension": ".py",
   "mimetype": "text/x-python",
   "name": "python",
   "nbconvert_exporter": "python",
   "pygments_lexer": "ipython3",
   "version": "3.9.7"
  }
 },
 "nbformat": 4,
 "nbformat_minor": 5
}
